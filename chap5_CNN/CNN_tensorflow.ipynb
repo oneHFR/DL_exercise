{
 "cells": [
  {
   "cell_type": "code",
   "execution_count": 1,
   "metadata": {
    "collapsed": true
   },
   "outputs": [
    {
     "name": "stdout",
     "output_type": "stream",
     "text": [
      "Iteration 0, Test Accuracy: 0.1720\n",
      "Iteration 100, Test Accuracy: 0.8720\n",
      "Iteration 200, Test Accuracy: 0.9130\n",
      "Iteration 300, Test Accuracy: 0.9290\n"
     ]
    }
   ],
   "source": [
    "import tensorflow as tf\n",
    "import numpy as np\n",
    "tf.executing_eagerly()  # 检查是否启用了即时执行模式\n",
    "\n",
    "\n",
    "# 超参数\n",
    "learning_rate = 1e-4\n",
    "keep_prob_rate = 0.7 \n",
    "max_epoch = 2000\n",
    "batch_size = 100\n",
    "\n",
    "# 加载 MNIST 数据集\n",
    "mnist = tf.keras.datasets.mnist\n",
    "(x_train, y_train), (x_test, y_test) = mnist.load_data()\n",
    "\n",
    "# 数据预处理\n",
    "x_train = x_train.reshape(-1, 28, 28, 1) / 255.0\n",
    "x_test = x_test.reshape(-1, 28, 28, 1) / 255.0\n",
    "y_train = tf.keras.utils.to_categorical(y_train, 10)\n",
    "y_test = tf.keras.utils.to_categorical(y_test, 10)\n",
    "\n",
    "# 定义模型\n",
    "model = tf.keras.Sequential([\n",
    "    tf.keras.layers.Conv2D(32, (7, 7), activation='relu', input_shape=(28, 28, 1), padding='same'),\n",
    "    tf.keras.layers.MaxPooling2D((2, 2), strides=2, padding='same'),\n",
    "    tf.keras.layers.Conv2D(64, (5, 5), activation='relu', padding='same'),\n",
    "    tf.keras.layers.MaxPooling2D((2, 2), strides=2, padding='same'),\n",
    "    tf.keras.layers.Flatten(),\n",
    "    tf.keras.layers.Dense(1024, activation='relu'),\n",
    "    tf.keras.layers.Dropout(1 - keep_prob_rate),\n",
    "    tf.keras.layers.Dense(10, activation='softmax')\n",
    "])\n",
    "\n",
    "# 定义优化器和损失函数\n",
    "optimizer = tf.keras.optimizers.Adam(learning_rate=learning_rate)\n",
    "loss_fn = tf.keras.losses.CategoricalCrossentropy()\n",
    "\n",
    "# 训练函数\n",
    "def train_step(x, y):\n",
    "    with tf.GradientTape() as tape:\n",
    "        predictions = model(x, training=True)\n",
    "        loss = loss_fn(y, predictions)\n",
    "    gradients = tape.gradient(loss, model.trainable_variables)\n",
    "    optimizer.apply_gradients(zip(gradients, model.trainable_variables))\n",
    "    return loss\n",
    "\n",
    "# 计算准确率的函数\n",
    "def compute_accuracy(preds, labels):\n",
    "    return tf.reduce_mean(tf.cast(tf.equal(tf.argmax(preds, axis=1), \n",
    "                                          tf.argmax(labels, axis=1)), \n",
    "                                tf.float32))\n",
    "\n",
    "# 训练循环\n",
    "for epoch in range(max_epoch):\n",
    "    # 随机选择一个 batch\n",
    "    indices = np.random.permutation(len(x_train))[:batch_size]\n",
    "    batch_x = x_train[indices]\n",
    "    batch_y = y_train[indices]\n",
    "    \n",
    "    # 训练一步\n",
    "    loss = train_step(batch_x, batch_y)\n",
    "    \n",
    "    # 每100次迭代打印一次准确率\n",
    "    if epoch % 100 == 0:\n",
    "        predictions = model(x_test[:1000], training=False)\n",
    "        accuracy = compute_accuracy(predictions, y_test[:1000])\n",
    "        print(f'Iteration {epoch}, Test Accuracy: {accuracy.numpy():.4f}')  # 使用 .numpy() 转换为浮点数\n",
    "\n",
    "# 最终测试\n",
    "predictions = model(x_test, training=False)\n",
    "final_accuracy = compute_accuracy(predictions, y_test)\n",
    "print(f'Final Test Accuracy: {final_accuracy.numpy():.4f}')  # 使用 .numpy() 转换为浮点数"
   ]
  }
 ],
 "metadata": {
  "anaconda-cloud": {},
  "kernelspec": {
   "display_name": "3dgs",
   "language": "python",
   "name": "python3"
  },
  "language_info": {
   "codemirror_mode": {
    "name": "ipython",
    "version": 3
   },
   "file_extension": ".py",
   "mimetype": "text/x-python",
   "name": "python",
   "nbconvert_exporter": "python",
   "pygments_lexer": "ipython3",
   "version": "3.8.19"
  }
 },
 "nbformat": 4,
 "nbformat_minor": 1
}
