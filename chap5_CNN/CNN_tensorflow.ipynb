{
 "cells": [
  {
   "cell_type": "code",
   "execution_count": 1,
   "metadata": {
    "collapsed": true
   },
   "outputs": [
    {
     "name": "stdout",
     "output_type": "stream",
     "text": [
      "Iteration 0, Test Accuracy: 0.1720\n",
      "Iteration 100, Test Accuracy: 0.8720\n",
      "Iteration 200, Test Accuracy: 0.9130\n",
      "Iteration 300, Test Accuracy: 0.9290\n",
      "Iteration 400, Test Accuracy: 0.9510\n",
      "Iteration 500, Test Accuracy: 0.9560\n",
      "Iteration 600, Test Accuracy: 0.9660\n",
      "Iteration 700, Test Accuracy: 0.9680\n",
      "Iteration 800, Test Accuracy: 0.9740\n",
      "Iteration 900, Test Accuracy: 0.9740\n",
      "Iteration 1000, Test Accuracy: 0.9820\n",
      "Iteration 1100, Test Accuracy: 0.9800\n",
      "Iteration 1200, Test Accuracy: 0.9800\n",
      "Iteration 1300, Test Accuracy: 0.9820\n",
      "Iteration 1400, Test Accuracy: 0.9820\n",
      "Iteration 1500, Test Accuracy: 0.9810\n",
      "Iteration 1600, Test Accuracy: 0.9790\n",
      "Iteration 1700, Test Accuracy: 0.9850\n",
      "Iteration 1800, Test Accuracy: 0.9860\n",
      "Iteration 1900, Test Accuracy: 0.9840\n",
      "Final Test Accuracy: 0.9840\n"
     ]
    }
   ],
   "source": [
    "\"\"\"\n",
    "本地是3.8的python兼容不了1.X版本的tf，所以改了一下提供的代码，完成的任务还是大致一致的\n",
    "\"\"\"\n",
    "import tensorflow as tf\n",
    "import numpy as np\n",
    "tf.executing_eagerly()\n",
    "\n",
    "learning_rate = 1e-4\n",
    "keep_prob_rate = 0.7 \n",
    "max_epoch = 2000\n",
    "batch_size = 100\n",
    "\n",
    "mnist = tf.keras.datasets.mnist\n",
    "(x_train, y_train), (x_test, y_test) = mnist.load_data()\n",
    "\n",
    "x_train = x_train.reshape(-1, 28, 28, 1) / 255.0\n",
    "x_test = x_test.reshape(-1, 28, 28, 1) / 255.0\n",
    "y_train = tf.keras.utils.to_categorical(y_train, 10)\n",
    "y_test = tf.keras.utils.to_categorical(y_test, 10)\n",
    "\n",
    "model = tf.keras.Sequential([\n",
    "    tf.keras.layers.Conv2D(32, (7, 7), activation='relu', input_shape=(28, 28, 1), padding='same'),\n",
    "    tf.keras.layers.MaxPooling2D((2, 2), strides=2, padding='same'),\n",
    "    tf.keras.layers.Conv2D(64, (5, 5), activation='relu', padding='same'),\n",
    "    tf.keras.layers.MaxPooling2D((2, 2), strides=2, padding='same'),\n",
    "    tf.keras.layers.Flatten(),\n",
    "    tf.keras.layers.Dense(1024, activation='relu'),\n",
    "    tf.keras.layers.Dropout(1 - keep_prob_rate),\n",
    "    tf.keras.layers.Dense(10, activation='softmax')\n",
    "])\n",
    "\n",
    "optimizer = tf.keras.optimizers.Adam(learning_rate=learning_rate)\n",
    "loss_fn = tf.keras.losses.CategoricalCrossentropy()\n",
    "\n",
    "def train_step(x, y):\n",
    "    with tf.GradientTape() as tape:\n",
    "        predictions = model(x, training=True)\n",
    "        loss = loss_fn(y, predictions)\n",
    "    gradients = tape.gradient(loss, model.trainable_variables)\n",
    "    optimizer.apply_gradients(zip(gradients, model.trainable_variables))\n",
    "    return loss\n",
    "\n",
    "def compute_accuracy(preds, labels):\n",
    "    return tf.reduce_mean(tf.cast(tf.equal(tf.argmax(preds, axis=1), \n",
    "                                          tf.argmax(labels, axis=1)), \n",
    "                                tf.float32))\n",
    "\n",
    "for epoch in range(max_epoch):\n",
    "    indices = np.random.permutation(len(x_train))[:batch_size]\n",
    "    batch_x = x_train[indices]\n",
    "    batch_y = y_train[indices]\n",
    "    \n",
    "    loss = train_step(batch_x, batch_y)\n",
    "    \n",
    "    if epoch % 100 == 0:\n",
    "        predictions = model(x_test[:1000], training=False)\n",
    "        accuracy = compute_accuracy(predictions, y_test[:1000])\n",
    "        print(f'Iteration {epoch}, Test Accuracy: {accuracy.numpy():.4f}')\n",
    "\n",
    "predictions = model(x_test, training=False)\n",
    "final_accuracy = compute_accuracy(predictions, y_test)\n",
    "print(f'Final Test Accuracy: {final_accuracy.numpy():.4f}')"
   ]
  }
 ],
 "metadata": {
  "anaconda-cloud": {},
  "kernelspec": {
   "display_name": "3dgs",
   "language": "python",
   "name": "python3"
  },
  "language_info": {
   "codemirror_mode": {
    "name": "ipython",
    "version": 3
   },
   "file_extension": ".py",
   "mimetype": "text/x-python",
   "name": "python",
   "nbconvert_exporter": "python",
   "pygments_lexer": "ipython3",
   "version": "3.8.19"
  }
 },
 "nbformat": 4,
 "nbformat_minor": 1
}
