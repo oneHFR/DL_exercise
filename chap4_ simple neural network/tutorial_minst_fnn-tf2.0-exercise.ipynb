{
 "cells": [
  {
   "cell_type": "markdown",
   "metadata": {},
   "source": [
    "## 准备数据"
   ]
  },
  {
   "cell_type": "code",
   "execution_count": 2,
   "metadata": {},
   "outputs": [],
   "source": [
    "import os\n",
    "import numpy as np\n",
    "import tensorflow as tf\n",
    "from tensorflow import keras\n",
    "from tensorflow.keras import layers, optimizers, datasets\n",
    "\n",
    "os.environ['TF_CPP_MIN_LOG_LEVEL'] = '2'  # or any {'0', '1', '2'}\n",
    "\n",
    "def mnist_dataset():\n",
    "    (x, y), (x_test, y_test) = datasets.mnist.load_data()\n",
    "    #normalize\n",
    "    x = x/255.0\n",
    "    x_test = x_test/255.0\n",
    "    \n",
    "    return (x, y), (x_test, y_test)"
   ]
  },
  {
   "cell_type": "code",
   "execution_count": 3,
   "metadata": {},
   "outputs": [
    {
     "name": "stdout",
     "output_type": "stream",
     "text": [
      "[(1, 'a'), (2, 'b'), (3, 'c'), (4, 'd')]\n"
     ]
    }
   ],
   "source": [
    "print(list(zip([1, 2, 3, 4], ['a', 'b', 'c', 'd'])))"
   ]
  },
  {
   "cell_type": "markdown",
   "metadata": {},
   "source": [
    "## 建立模型"
   ]
  },
  {
   "cell_type": "code",
   "execution_count": 4,
   "metadata": {},
   "outputs": [],
   "source": [
    "class myModel:\n",
    "    def __init__(self):\n",
    "        ####################\n",
    "        '''声明模型对应的参数'''\n",
    "        ####################\n",
    "        self.W1 = tf.Variable(tf.random.normal([784, 256]))\n",
    "        self.b1 = tf.Variable(tf.zeros([256]))\n",
    "        self.W2 = tf.Variable(tf.random.normal([256, 10]))\n",
    "        self.b2 = tf.Variable(tf.zeros([10]))\n",
    "\n",
    "\n",
    "    def __call__(self, x):\n",
    "        ####################\n",
    "        '''实现模型函数体，返回未归一化的logits'''\n",
    "        ####################\n",
    "        x = tf.reshape(x, [-1, 784])\n",
    "        h1 = tf.nn.relu(tf.matmul(x, self.W1) + self.b1)\n",
    "        logits = tf.matmul(h1, self.W2) + self.b2\n",
    "        return logits\n",
    "        \n",
    "model = myModel()\n",
    "\n",
    "optimizer = optimizers.Adam()"
   ]
  },
  {
   "cell_type": "markdown",
   "metadata": {},
   "source": [
    "## 计算 loss"
   ]
  },
  {
   "cell_type": "code",
   "execution_count": 5,
   "metadata": {},
   "outputs": [],
   "source": [
    "@tf.function\n",
    "def compute_loss(logits, labels):\n",
    "    return tf.reduce_mean(\n",
    "        tf.nn.sparse_softmax_cross_entropy_with_logits(\n",
    "            logits=logits, labels=labels))\n",
    "\n",
    "@tf.function\n",
    "def compute_accuracy(logits, labels):\n",
    "    predictions = tf.argmax(logits, axis=1)\n",
    "    return tf.reduce_mean(tf.cast(tf.equal(predictions, labels), tf.float32))\n",
    "\n",
    "@tf.function\n",
    "def train_one_step(model, optimizer, x, y):\n",
    "    with tf.GradientTape() as tape:\n",
    "        logits = model(x)\n",
    "        loss = compute_loss(logits, y)\n",
    "\n",
    "    # compute gradient\n",
    "    trainable_vars = [model.W1, model.W2, model.b1, model.b2]\n",
    "    grads = tape.gradient(loss, trainable_vars)\n",
    "    for g, v in zip(grads, trainable_vars):\n",
    "        v.assign_sub(0.01*g)\n",
    "\n",
    "    accuracy = compute_accuracy(logits, y)\n",
    "\n",
    "    # loss and accuracy is scalar tensor\n",
    "    return loss, accuracy\n",
    "\n",
    "@tf.function\n",
    "def test(model, x, y):\n",
    "    logits = model(x)\n",
    "    loss = compute_loss(logits, y)\n",
    "    accuracy = compute_accuracy(logits, y)\n",
    "    return loss, accuracy"
   ]
  },
  {
   "cell_type": "markdown",
   "metadata": {},
   "source": [
    "## 实际训练"
   ]
  },
  {
   "cell_type": "code",
   "execution_count": 7,
   "metadata": {},
   "outputs": [
    {
     "name": "stdout",
     "output_type": "stream",
     "text": [
      "epoch 0 : loss 35.73011 ; accuracy 0.42455\n",
      "epoch 1 : loss 35.27651 ; accuracy 0.43003333\n",
      "epoch 2 : loss 34.837433 ; accuracy 0.43456668\n",
      "epoch 3 : loss 34.411724 ; accuracy 0.43921667\n",
      "epoch 4 : loss 33.998608 ; accuracy 0.44355\n",
      "epoch 5 : loss 33.59749 ; accuracy 0.44778332\n",
      "epoch 6 : loss 33.207893 ; accuracy 0.4521\n",
      "epoch 7 : loss 32.829403 ; accuracy 0.45618334\n",
      "epoch 8 : loss 32.461624 ; accuracy 0.46035\n",
      "epoch 9 : loss 32.104187 ; accuracy 0.46406665\n",
      "epoch 10 : loss 31.75646 ; accuracy 0.46755\n",
      "epoch 11 : loss 31.417734 ; accuracy 0.47125\n",
      "epoch 12 : loss 31.087524 ; accuracy 0.47431666\n",
      "epoch 13 : loss 30.765596 ; accuracy 0.47801667\n",
      "epoch 14 : loss 30.451784 ; accuracy 0.4816\n",
      "epoch 15 : loss 30.145859 ; accuracy 0.48468333\n",
      "epoch 16 : loss 29.84758 ; accuracy 0.48801666\n",
      "epoch 17 : loss 29.556946 ; accuracy 0.49168333\n",
      "epoch 18 : loss 29.273712 ; accuracy 0.49495\n",
      "epoch 19 : loss 28.99757 ; accuracy 0.49836665\n",
      "epoch 20 : loss 28.728308 ; accuracy 0.50151664\n",
      "epoch 21 : loss 28.465647 ; accuracy 0.50476664\n",
      "epoch 22 : loss 28.209288 ; accuracy 0.50778335\n",
      "epoch 23 : loss 27.958958 ; accuracy 0.5108\n",
      "epoch 24 : loss 27.71448 ; accuracy 0.51386666\n",
      "epoch 25 : loss 27.475592 ; accuracy 0.51685\n",
      "epoch 26 : loss 27.242071 ; accuracy 0.5197333\n",
      "epoch 27 : loss 27.013725 ; accuracy 0.52218336\n",
      "epoch 28 : loss 26.790373 ; accuracy 0.5248\n",
      "epoch 29 : loss 26.571854 ; accuracy 0.52748334\n",
      "epoch 30 : loss 26.35803 ; accuracy 0.5302167\n",
      "epoch 31 : loss 26.148813 ; accuracy 0.53283334\n",
      "epoch 32 : loss 25.944025 ; accuracy 0.53578335\n",
      "epoch 33 : loss 25.743513 ; accuracy 0.53823334\n",
      "epoch 34 : loss 25.547165 ; accuracy 0.5409333\n",
      "epoch 35 : loss 25.354898 ; accuracy 0.54333335\n",
      "epoch 36 : loss 25.166578 ; accuracy 0.54571664\n",
      "epoch 37 : loss 24.98201 ; accuracy 0.54815\n",
      "epoch 38 : loss 24.801008 ; accuracy 0.55051666\n",
      "epoch 39 : loss 24.623472 ; accuracy 0.55273336\n",
      "epoch 40 : loss 24.44927 ; accuracy 0.5549667\n",
      "epoch 41 : loss 24.278275 ; accuracy 0.55698335\n",
      "epoch 42 : loss 24.110422 ; accuracy 0.55925\n",
      "epoch 43 : loss 23.945688 ; accuracy 0.5613667\n",
      "epoch 44 : loss 23.784018 ; accuracy 0.56343335\n",
      "epoch 45 : loss 23.625338 ; accuracy 0.5655\n",
      "epoch 46 : loss 23.46958 ; accuracy 0.56763333\n",
      "epoch 47 : loss 23.316626 ; accuracy 0.56976664\n",
      "epoch 48 : loss 23.166407 ; accuracy 0.57168335\n",
      "epoch 49 : loss 23.018795 ; accuracy 0.57336664\n",
      "test loss 22.744816 ; accuracy 0.5819\n"
     ]
    }
   ],
   "source": [
    "train_data, test_data = mnist_dataset()\n",
    "for epoch in range(50):\n",
    "    loss, accuracy = train_one_step(model, optimizer, \n",
    "                                    tf.constant(train_data[0], dtype=tf.float32), \n",
    "                                    tf.constant(train_data[1], dtype=tf.int64))\n",
    "    print('epoch', epoch, ': loss', loss.numpy(), '; accuracy', accuracy.numpy())\n",
    "loss, accuracy = test(model, \n",
    "                      tf.constant(test_data[0], dtype=tf.float32), \n",
    "                      tf.constant(test_data[1], dtype=tf.int64))\n",
    "\n",
    "print('test loss', loss.numpy(), '; accuracy', accuracy.numpy())"
   ]
  }
 ],
 "metadata": {
  "kernelspec": {
   "display_name": "Python 3",
   "language": "python",
   "name": "python3"
  },
  "language_info": {
   "codemirror_mode": {
    "name": "ipython",
    "version": 3
   },
   "file_extension": ".py",
   "mimetype": "text/x-python",
   "name": "python",
   "nbconvert_exporter": "python",
   "pygments_lexer": "ipython3",
   "version": "3.8.19"
  }
 },
 "nbformat": 4,
 "nbformat_minor": 2
}
